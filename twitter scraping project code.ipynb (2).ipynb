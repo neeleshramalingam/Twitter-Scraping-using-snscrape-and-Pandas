{
 "cells": [
  {
   "cell_type": "code",
   "execution_count": 1,
   "metadata": {},
   "outputs": [
    {
     "name": "stderr",
     "output_type": "stream",
     "text": [
      "C:\\Users\\user\\AppData\\Local\\Temp\\ipykernel_5696\\1261708190.py:9: FutureWarning: content is deprecated, use rawContent instead\n",
      "  tweets_list.append([tweet.date, tweet.content, tweet.user.username, tweet.user.displayname, tweet.user.description,\n",
      "C:\\Users\\user\\AppData\\Local\\Temp\\ipykernel_5696\\1261708190.py:9: FutureWarning: description is deprecated, use renderedDescription instead\n",
      "  tweets_list.append([tweet.date, tweet.content, tweet.user.username, tweet.user.displayname, tweet.user.description,\n"
     ]
    },
    {
     "name": "stdout",
     "output_type": "stream",
     "text": [
      "                         date  \\\n",
      "0   2023-02-08 06:41:01+00:00   \n",
      "1   2023-02-08 06:41:00+00:00   \n",
      "2   2023-02-08 06:41:00+00:00   \n",
      "3   2023-02-08 06:41:00+00:00   \n",
      "4   2023-02-08 06:41:00+00:00   \n",
      "..                        ...   \n",
      "995 2023-02-08 06:17:36+00:00   \n",
      "996 2023-02-08 06:17:36+00:00   \n",
      "997 2023-02-08 06:17:36+00:00   \n",
      "998 2023-02-08 06:17:35+00:00   \n",
      "999 2023-02-08 06:17:35+00:00   \n",
      "\n",
      "                                                tweets        username  \\\n",
      "0    @GMB @Lemar @ITV Thoughts and prayers to those...    MarkusPapst3   \n",
      "1    @Kenyans The MPs to donate half their salaries...        Gadfatha   \n",
      "2    وزیراعظم شہباز شریف کی ہدایت پر زلزلے سے متاثر...      suchtvnews   \n",
      "3    Crews find survivors, many dead after Turkey, ...  ourhealtho_com   \n",
      "4    @iMRizwanPak Pakistan has extended it's huge s...   SpiritedHindu   \n",
      "..                                                 ...             ...   \n",
      "995  @the_kingslife Please donate some money to syr...   RBFOREVER2629   \n",
      "996  Miracle happens\\n2 year old Muhammet saved by ...  Hashim_Bashir8   \n",
      "997  @TheJellyMan @timand2037 As a Ukrainian Jew, I...    JaninaNododo   \n",
      "998  @mohammedn666 هاد الحكي غير دقيق القوافل جاهز ...    we_syria_963   \n",
      "999  @thelightsystemm Georgia is doing maximum in i...  _Blackbearson_   \n",
      "\n",
      "             displayname                                        description  \\\n",
      "0          Adrian Toomes  I'm Adrian computers verified, wars fought, up...   \n",
      "1              Charles M                    Son of Simon \\nFather to  Moses   \n",
      "2                SUCH TV  SUCH TV is Pakistan's most reliable News/Curre...   \n",
      "3         ourhealtho.com  Ourhealtho.com is the prime source for informa...   \n",
      "4           Nation First  • Advertising Proffesional • Bathroom Singer •...   \n",
      "..                   ...                                                ...   \n",
      "995           RB FOREVER                                                      \n",
      "996        HASHIM Bashir                                                      \n",
      "997        Janina Gorbal          I am no more special than any other human   \n",
      "998        نحن_سوريا_٩٦٣  اسمي محمد من حلب . الثورة ثورتي والفكر فكري ان...   \n",
      "999  G.Shavdatuashvili🇬🇪  Together we stand, divided we fall⚡🇬🇪🇺🇦⚡\\nTwee...   \n",
      "\n",
      "     rpcounts  retweetcounts  likecounts  quotecount languvage  \\\n",
      "0           0              0           0           0        en   \n",
      "1           0              0           0           0        en   \n",
      "2           0              0           0           0        ur   \n",
      "3           0              0           0           0        en   \n",
      "4           0              0           0           0        en   \n",
      "..        ...            ...         ...         ...       ...   \n",
      "995         0              0           0           0        en   \n",
      "996         0              0           1           0        en   \n",
      "997         0              0           0           0        en   \n",
      "998         0              0           0           0        ar   \n",
      "999         0              0           0           0        en   \n",
      "\n",
      "                                                source  \n",
      "0    <a href=\"http://twitter.com/download/android\" ...  \n",
      "1    <a href=\"http://twitter.com/download/android\" ...  \n",
      "2    <a href=\"https://mobile.twitter.com\" rel=\"nofo...  \n",
      "3    <a href=\"http://publicize.wp.com/\" rel=\"nofoll...  \n",
      "4    <a href=\"http://twitter.com/download/android\" ...  \n",
      "..                                                 ...  \n",
      "995  <a href=\"http://twitter.com/download/android\" ...  \n",
      "996  <a href=\"http://twitter.com/download/android\" ...  \n",
      "997  <a href=\"https://mobile.twitter.com\" rel=\"nofo...  \n",
      "998  <a href=\"http://twitter.com/download/iphone\" r...  \n",
      "999  <a href=\"http://twitter.com/download/android\" ...  \n",
      "\n",
      "[1000 rows x 11 columns]\n"
     ]
    }
   ],
   "source": [
    "import snscrape.modules.twitter as sntwitter\n",
    "import pandas as pd\n",
    "limit= 1000 \n",
    "tweets_list =[] \n",
    "for tweet in sntwitter.TwitterSearchScraper(\"syria\").get_items(): \n",
    "    if len(tweets_list)== limit: \n",
    "        break \n",
    "    else: \n",
    "        tweets_list.append([tweet.date, tweet.content, tweet.user.username, tweet.user.displayname, tweet.user.description,  \n",
    "        tweet.replyCount, tweet.retweetCount,tweet.likeCount , tweet.quoteCount, tweet.lang, tweet.source]) \n",
    "df = pd.DataFrame(tweets_list,columns=[\"date\", \"tweets\", \"username\", \"displayname\", \"description\", \"rpcounts\", \n",
    "                                        \"retweetcounts\", \"likecounts\", \"quotecount\", \"languvage\", \"source\"  ])   \n",
    "print(df)\n"
   ]
  },
  {
   "cell_type": "code",
   "execution_count": 28,
   "metadata": {},
   "outputs": [],
   "source": [
    "import os\n",
    "path_tO_csv=\"NEELESH.csv\"\n",
    "df.to_csv(path_tO_csv)"
   ]
  }
 ],
 "metadata": {
  "kernelspec": {
   "display_name": "base",
   "language": "python",
   "name": "python3"
  },
  "language_info": {
   "codemirror_mode": {
    "name": "ipython",
    "version": 3
   },
   "file_extension": ".py",
   "mimetype": "text/x-python",
   "name": "python",
   "nbconvert_exporter": "python",
   "pygments_lexer": "ipython3",
   "version": "3.9.13"
  },
  "orig_nbformat": 4,
  "vscode": {
   "interpreter": {
    "hash": "4efd1e13da443dd68e4cc2ad62cd041709248e2efca745992af0b3d6577f262f"
   }
  }
 },
 "nbformat": 4,
 "nbformat_minor": 2
}
